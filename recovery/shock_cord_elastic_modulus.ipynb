{
 "cells": [
  {
   "cell_type": "markdown",
   "metadata": {},
   "source": [
    "# Elastic modulus measurement of parachute shock cord\n",
    "\n",
    "## Measurement\n",
    "\n",
    "- 2 sequences of loading and unloading of the masses: 1.5kg, 20.5kg, 39.5kg.\n",
    "- shock cord: 1/2 Inch Nylon, [Fruitychutes: Medium Shock Cord, 1/2\" 1200lb Nylon Webbing, 4yd](http://fruitychutes.com/buyachute/shock-cords-c-5/medium-shock-cord-12-1200lb-nylon-webbing-p-156.html)\n",
    "- measurement of cord elongation\n"
   ]
  },
  {
   "cell_type": "code",
   "execution_count": 1,
   "metadata": {
    "collapsed": false
   },
   "outputs": [
    {
     "data": {
      "image/png": "[encoded data removed]",
      "text/plain": [
       "<matplotlib.figure.Figure at 0x1124e87f0>"
      ]
     },
     "metadata": {},
     "output_type": "display_data"
    },
    {
     "name": "stdout",
     "output_type": "stream",
     "text": [
      "0.776 [kg/mm]\n",
      "k = 7616 [N/m], (1/2Inch, 7m)\n",
      "k/l = 58883 [N], (1Inch)\n"
     ]
    }
   ],
   "source": [
    "import numpy as np\n",
    "import matplotlib.pyplot as plt\n",
    "\n",
    "data = [\n",
    "    (3866, 1.5),\n",
    "    (3891, 20.5),\n",
    "    (3918, 39.5),\n",
    "    (3900, 20.5),\n",
    "    (3875, 1.5),\n",
    "    (3896, 20.5),\n",
    "    (3919, 39.5),\n",
    "    (3902, 20.5),\n",
    "    (3876, 1.5)\n",
    "]\n",
    "x, y = zip(*data)\n",
    "x, y = np.array(x), np.array(y)\n",
    "\n",
    "# linear fit with np.polyfit\n",
    "m, b = np.polyfit(x, y, 1)\n",
    "\n",
    "plt.plot(x, y, '.')\n",
    "x = np.array([max(x), min(x)])\n",
    "plt.plot(x, m*x+ b, 'g')\n",
    "plt.show()\n",
    "\n",
    "# 1/2 Inch shock cord, 3.866m long\n",
    "k = 9.81*m*1000\n",
    "print('{:.3f} [kg/mm]'.format(m))\n",
    "print('k = {:.0f} [N/m], (1/2Inch, 7m)'.format(k))\n",
    "\n",
    "# projected k for a shock cord of 1 Inch shock cord\n",
    "k = k*2*3.866\n",
    "print('k/l = {:.0f} [N], (1Inch)'.format(k))"
   ]
  },
  {
   "cell_type": "code",
   "execution_count": null,
   "metadata": {
    "collapsed": true
   },
   "outputs": [],
   "source": []
  }
 ],
 "metadata": {
  "kernelspec": {
   "display_name": "Python 3",
   "language": "python",
   "name": "python3"
  },
  "language_info": {
   "codemirror_mode": {
    "name": "ipython",
    "version": 3
   },
   "file_extension": ".py",
   "mimetype": "text/x-python",
   "name": "python",
   "nbconvert_exporter": "python",
   "pygments_lexer": "ipython3",
   "version": "3.6.0"
  }
 },
 "nbformat": 4,
 "nbformat_minor": 2
}
