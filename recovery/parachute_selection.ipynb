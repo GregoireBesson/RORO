{
 "cells": [
  {
   "cell_type": "markdown",
   "metadata": {},
   "source": [
    "# Requirements\n",
    "\n",
    "## drogue chute\n",
    "\n",
    "Descent speed $ 22.86 m/s - 45.72 m/s $ (or $ 75 ft/s - 150 ft/s $)\n",
    "\n",
    "## main chute\n",
    "\n",
    "Descent speed $ v < 9.14 m/s $ (or $ v < 30ft/s $)\n"
   ]
  },
  {
   "cell_type": "markdown",
   "metadata": {},
   "source": [
    "\n",
    "# Drag\n",
    "\n",
    "Drag equation\n",
    "$$\n",
    "F_D = \\frac{1}{2} \\rho v^2 C_D A\n",
    "$$\n",
    "\n",
    "- $F_D$ drag force\n",
    "- $\\rho$ mass density of fluid\n",
    "- $v$ velocity\n",
    "- $A$ reference area\n",
    "- $C_D$ drag coefficient\n",
    "\n",
    "Descent velocity\n",
    "$$\n",
    "v = \\sqrt{\\frac{2 m g}{\\rho_{air} C_D A}}\n",
    "$$"
   ]
  },
  {
   "cell_type": "code",
   "execution_count": 1,
   "metadata": {
    "collapsed": true
   },
   "outputs": [],
   "source": [
    "import math\n",
    "\n",
    "rho=1.2; # [kg/m3], at sea level 1.225, 1000m 1.121\n",
    "g=9.81;\n",
    "\n",
    "def F_drag(v, cd, d):\n",
    "    A = d**2*math.pi/4\n",
    "    return 1/2*rho*v**2*cd*A\n",
    "\n",
    "def v_descent(m, cd, d):\n",
    "    A = d**2*math.pi/4\n",
    "    return math.sqrt(2*m*g/(rho*cd*A))"
   ]
  },
  {
   "cell_type": "markdown",
   "metadata": {},
   "source": [
    "# Drogue\n",
    "CFC-18: 18 inch Elliptical Parachute (from fruitychutes.com)\n",
    "\n",
    "- Cd between 1.5 - 1.6\n",
    "- Diameter: 0.46m\n",
    "- Weight: 49 grams\n",
    "- Materials: 1.1oz Rip-stop, 220lb nylon shroud lines, 1000lb swivel\n",
    "- Number of Gores: 8\n",
    "- Packing Volume: d=48mm, l=84mm, V=0.15l (assumes a very tight pack)"
   ]
  },
  {
   "cell_type": "code",
   "execution_count": 2,
   "metadata": {
    "collapsed": false
   },
   "outputs": [
    {
     "name": "stdout",
     "output_type": "stream",
     "text": [
      "20kg: 35.07 m/s\n",
      "18kg: 33.27 m/s (after 2kg payload deployment)\n"
     ]
    }
   ],
   "source": [
    "cd_drogue = 1.6 # drag coefficient\n",
    "d_drogue = 0.46 # diameter [m]\n",
    "v_drogue_init = v_descent(20, cd_drogue, d_drogue)\n",
    "v_drogue = v_descent(18, cd_drogue, d_drogue)\n",
    "print('20kg: {:.2f} m/s'.format(v_drogue_init))\n",
    "print('18kg: {:.2f} m/s (after 2kg payload deployment)'.format(v_drogue))"
   ]
  },
  {
   "cell_type": "markdown",
   "metadata": {},
   "source": [
    "# Main chute\n",
    "IFC-84: Iris Ultra 84 inch Standard Parachute (from fruitychutes.com)\n",
    "\n",
    "- Cd: 2.20\n",
    "- Diameter: 2.13m\n",
    "- Type: Toroidal (Annular)\n",
    "- Packing Volume: d=100mm, l=224mm, V=1.75l (assumes a very tight pack)\n",
    "- Weight 0.54 kg\n",
    "- Material: Nylon\n",
    "- Number of Gores: 12"
   ]
  },
  {
   "cell_type": "code",
   "execution_count": 3,
   "metadata": {
    "collapsed": false
   },
   "outputs": [
    {
     "name": "stdout",
     "output_type": "stream",
     "text": [
      "18kg: 6.13 m/s\n"
     ]
    }
   ],
   "source": [
    "cd_main = 2.2 # drag coefficient\n",
    "d_main = 2.13 # diameter [m]\n",
    "v_main = v_descent(18, cd_main, d_main)\n",
    "print('18kg: {:.2f} m/s'.format(v_main))"
   ]
  },
  {
   "cell_type": "markdown",
   "metadata": {},
   "source": [
    "# Opening shock\n",
    "\n",
    "The opening shock can be calculated from the drag force at deployment velocity:\n",
    "\n",
    "$$\n",
    "F_{shock} = c_x F_D = c_x \\frac{1}{2} \\rho v^2 C_D A\n",
    "$$\n",
    "\n",
    "using $c_x$ of 1.8\n",
    "\n",
    "At apogee the rocket has non-zero horizontal velocity which can not be neglected.\n",
    "We consider 250km/h as a worst case value.\n",
    "The opening shock is approximated by the drag force of the parachute at deployment velocity.\n",
    "The actual shock is assumed smaller due to the additional drag from the rocket body and the non-instantaneous deployment of the chute.\n",
    "\n",
    "sources:\n",
    "1. [Dimensionierung Bergungssystem, ARGOS (german)](http://www.argoshpr.ch/j3/articles/pdf/Recovery_Pt2.PDF)\n",
    "2. [Parachute Inflation and Opening Shock, 3rd International Planetary Probe Workshop](http://solarsystem.nasa.gov/docs/06%20Parachute%20Inflation%20Wolf.pdf)"
   ]
  },
  {
   "cell_type": "code",
   "execution_count": 4,
   "metadata": {
    "collapsed": false
   },
   "outputs": [
    {
     "name": "stdout",
     "output_type": "stream",
     "text": [
      "drogue: 1385 N\n",
      "main: 9370 N\n"
     ]
    }
   ],
   "source": [
    "cx = 1.8\n",
    "\n",
    "# deceleration shock from drogue deployment\n",
    "v_apogee = 250/3.6 # [m/s] worst case lateral velocity at apogee\n",
    "shock_drogue = cx * F_drag(v_apogee, cd_drogue, d_drogue)\n",
    "print('drogue: {:.0f} N'.format(shock_drogue))\n",
    "\n",
    "# deceleration shock from drogue to main chute descent velocity\n",
    "shock_main = cx * F_drag(v_drogue, cd_main, d_main)\n",
    "print('main: {:.0f} N'.format(shock_main))\n"
   ]
  },
  {
   "cell_type": "markdown",
   "metadata": {},
   "source": [
    "## Opening shock factor for finite mass\n",
    "\n",
    "from source 2, slide 14 & 15"
   ]
  },
  {
   "cell_type": "code",
   "execution_count": 10,
   "metadata": {
    "collapsed": false
   },
   "outputs": [
    {
     "name": "stdout",
     "output_type": "stream",
     "text": [
      "mass ratio for main parachute and 25kg: 1.05\n"
     ]
    }
   ],
   "source": [
    "A_main = d_main**2*math.pi/4\n",
    "M = 25 # kg\n",
    "mass_ratio = rho * (A_main * cd_main)**1.5/M\n",
    "print('mass ratio for main parachute and 25kg: {:.3}'.format(mass_ratio))"
   ]
  },
  {
   "cell_type": "markdown",
   "metadata": {},
   "source": [
    "from the table on slide 15 we can see that this corresponds to a shock factor of about 0.1-0.2"
   ]
  },
  {
   "cell_type": "code",
   "execution_count": 16,
   "metadata": {
    "collapsed": false
   },
   "outputs": [
    {
     "name": "stdout",
     "output_type": "stream",
     "text": [
      "main shock with finite mass model (25kg): 1041 N\n"
     ]
    }
   ],
   "source": [
    "cx_finite_mass = 0.2\n",
    "shock_main_finite_mass = cx_finite_mass * F_drag(v_drogue, cd_main, d_main)\n",
    "print('main shock with finite mass model (25kg): {:.0f} N'.format(shock_main_finite_mass_model))"
   ]
  },
  {
   "cell_type": "code",
   "execution_count": null,
   "metadata": {
    "collapsed": true
   },
   "outputs": [],
   "source": []
  }
 ],
 "metadata": {
  "kernelspec": {
   "display_name": "Python 3",
   "language": "python",
   "name": "python3"
  },
  "language_info": {
   "codemirror_mode": {
    "name": "ipython",
    "version": 3
   },
   "file_extension": ".py",
   "mimetype": "text/x-python",
   "name": "python",
   "nbconvert_exporter": "python",
   "pygments_lexer": "ipython3",
   "version": "3.5.1"
  }
 },
 "nbformat": 4,
 "nbformat_minor": 2
}
